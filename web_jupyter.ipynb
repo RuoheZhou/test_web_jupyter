{
 "cells": [
  {
   "cell_type": "code",
   "execution_count": 8,
   "id": "7bd66c13",
   "metadata": {},
   "outputs": [],
   "source": [
    "#pip3 install voila; ipywidgets; widgetsnbextension\n",
    "import warnings\n",
    "warnings.filterwarnings('ignore')\n",
    "\n",
    "import ipywidgets as widgets\n",
    "from IPython.display import display, clear_output"
   ]
  },
  {
   "cell_type": "code",
   "execution_count": 9,
   "id": "3b679cb3",
   "metadata": {},
   "outputs": [
    {
     "name": "stdout",
     "output_type": "stream",
     "text": [
      "Enabling notebook extension jupyter-js-widgets/extension...\n",
      "      - Validating: \u001b[32mOK\u001b[0m\n",
      "Enabling: voila\n",
      "- Writing config: /Users/zhouruohe/opt/anaconda3/etc/jupyter\n",
      "    - Validating...\n",
      "      voila 0.4.0 \u001b[32mOK\u001b[0m\n"
     ]
    }
   ],
   "source": [
    "!jupyter nbextension enable --py widgetsnbextension --sys-prefix\n",
    "!jupyter serverextension enable voila --sys-prefix"
   ]
  },
  {
   "cell_type": "code",
   "execution_count": 10,
   "id": "f4bf43dc",
   "metadata": {},
   "outputs": [],
   "source": [
    "label_headline = widgets.Label(\n",
    "                    value='Photo by CDC on Unsplash',\n",
    "                    style={'description_width': 'initial'}\n",
    "                )\n",
    "\n",
    "vbox_headline = widgets.VBox([label_headline])\n"
   ]
  },
  {
   "cell_type": "code",
   "execution_count": 11,
   "id": "77180536",
   "metadata": {},
   "outputs": [],
   "source": [
    "country = widgets.ToggleButtons(options=['Canada','US'])"
   ]
  },
  {
   "cell_type": "code",
   "execution_count": 12,
   "id": "9545493e",
   "metadata": {},
   "outputs": [],
   "source": [
    "Your_tweet = widgets.Text(placeholder='Your tweet here')"
   ]
  },
  {
   "cell_type": "code",
   "execution_count": 13,
   "id": "91e9aa87",
   "metadata": {},
   "outputs": [],
   "source": [
    "button_send = widgets.Button(\n",
    "    description='send your tweet',\n",
    "    tooltip='SEND',\n",
    "    style={'description_width':'initial'})\n",
    "\n",
    "output = widgets.Output()\n",
    "\n",
    "def on_button_clicked(event):\n",
    "    with output:\n",
    "        clear_output()\n",
    "        print(f\"I see you're from {country.value}!\")\n",
    "        print(f\"I see you're from {Your_tweet.value}!\")\n",
    "        \n",
    "button_send.on_click(on_button_clicked)\n",
    "\n",
    "vbox_result = widgets.VBox([button_send, output])"
   ]
  },
  {
   "cell_type": "code",
   "execution_count": 14,
   "id": "dd16011e",
   "metadata": {},
   "outputs": [],
   "source": [
    "vbox_test = widgets.VBox([country, Your_tweet, vbox_result])"
   ]
  },
  {
   "cell_type": "code",
   "execution_count": 15,
   "id": "afb9e78d",
   "metadata": {},
   "outputs": [
    {
     "data": {
      "application/vnd.jupyter.widget-view+json": {
       "model_id": "1b4b23bac9e3442a947c27d4dfe9eea9",
       "version_major": 2,
       "version_minor": 0
      },
      "text/plain": [
       "HBox(children=(VBox(children=(ToggleButtons(options=('Canada', 'US'), value='Canada'), Text(value='', placehol…"
      ]
     },
     "metadata": {},
     "output_type": "display_data"
    }
   ],
   "source": [
    "page = widgets.HBox([vbox_test])\n",
    "display(page)"
   ]
  },
  {
   "cell_type": "code",
   "execution_count": null,
   "id": "2b539eab",
   "metadata": {},
   "outputs": [],
   "source": []
  },
  {
   "cell_type": "code",
   "execution_count": null,
   "id": "424ea61c",
   "metadata": {},
   "outputs": [],
   "source": []
  }
 ],
 "metadata": {
  "kernelspec": {
   "display_name": "Python 3 (ipykernel)",
   "language": "python",
   "name": "python3"
  },
  "language_info": {
   "codemirror_mode": {
    "name": "ipython",
    "version": 3
   },
   "file_extension": ".py",
   "mimetype": "text/x-python",
   "name": "python",
   "nbconvert_exporter": "python",
   "pygments_lexer": "ipython3",
   "version": "3.9.13"
  }
 },
 "nbformat": 4,
 "nbformat_minor": 5
}
